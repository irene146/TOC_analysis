{
 "cells": [
  {
   "cell_type": "code",
   "execution_count": null,
   "metadata": {},
   "outputs": [],
   "source": [
    "import pandas as pd\n",
    "import numpy as np\n",
    "import matplotlib.pyplot as plt\n",
    "import datetime\n",
    "from glob import glob\n",
    "import os\n",
    "import TOC_functions\n",
    "%matplotlib widget "
   ]
  },
  {
   "cell_type": "code",
   "execution_count": null,
   "metadata": {},
   "outputs": [],
   "source": [
    "root_folder = os.path.expanduser('C:/Users/ica/OneDrive - Plymouth Marine Laboratory/vscode/TOC_analysis/data/11')  # yourpath\n",
    "picarro_df = TOC_functions.merge_picarro_files(root_folder)\n",
    "picarro_df.set_index('datetime', inplace=True)"
   ]
  },
  {
   "cell_type": "code",
   "execution_count": null,
   "metadata": {},
   "outputs": [],
   "source": [
    "# filter by time\n",
    "\n",
    "start_time = datetime.datetime(2024, 11, 20, 11, 0, 0)\n",
    "end_time = datetime.datetime(2024, 11, 20, 16, 0, 0)"
   ]
  },
  {
   "cell_type": "code",
   "execution_count": null,
   "metadata": {},
   "outputs": [],
   "source": [
    "df = picarro_df.loc[start_time:end_time]\n",
    "df = TOC_functions.qc(df)"
   ]
  },
  {
   "cell_type": "code",
   "execution_count": null,
   "metadata": {},
   "outputs": [],
   "source": [
    "TOC_df = TOC_functions.TOC_df(df)\n"
   ]
  },
  {
   "cell_type": "code",
   "execution_count": null,
   "metadata": {},
   "outputs": [],
   "source": [
    "fig, (ax1, ax2, ax3) = plt.subplots(nrows=3, sharex=True, figsize=(10, 8))\n",
    "\n",
    "# Plot for CO\n",
    "ax1.plot(df.index, df.CO, label='CO / ppm', color='blue')\n",
    "ax1.set_ylabel('CO / ppm', color='blue')\n",
    "ax1.tick_params(axis='y', labelcolor='blue')\n",
    "\n",
    "# Plot for CH4\n",
    "ax2.plot(df.index, df.CH4_corrected, label='CH4 / ppm', color='red')\n",
    "ax2.set_ylabel('CH4 / ppm', color='red')\n",
    "ax2.tick_params(axis='y', labelcolor='red')\n",
    "\n",
    "# Plot for CO2\n",
    "ax3.plot(df.index, df.CO2_corrected, label='CO2 / ppm', color='green')\n",
    "ax3.set_xlabel('Date')\n",
    "ax3.set_ylabel('CO2 / ppm', color='green')\n",
    "ax3.tick_params(axis='y', labelcolor='green')\n",
    "\n",
    "# Adjust layout to prevent overlap\n",
    "plt.tight_layout()\n",
    "plt.show()"
   ]
  },
  {
   "cell_type": "code",
   "execution_count": null,
   "metadata": {},
   "outputs": [],
   "source": [
    "def calculate_ox(TOC_df):\n",
    "    ch4_ox = []\n",
    "\n",
    "    for i in range(0, len(TOC_df)-1, 2):\n",
    "        pair = TOC_df.iloc[i:i+2]\n",
    "\n",
    "        ch4_catalyst = pair['avg_ch4_catalyst'].sum()\n",
    "        ch4_ambient = pair['avg_ch4_ambient'].sum()\n",
    "        # Calculate CH4 oxidation\n",
    "        ch4_ox_value = 1 - (ch4_catalyst / ch4_ambient)\n",
    "        \n",
    "        # Use the mean timestamp of the pair\n",
    "        ch4_ox.append((pair.index.mean(), ch4_ox_value))\n",
    "    return pd.DataFrame(ch4_ox, columns=['datetime', 'ch4_ox']).set_index('datetime')\n",
    "    \n",
    "   "
   ]
  },
  {
   "cell_type": "code",
   "execution_count": null,
   "metadata": {},
   "outputs": [],
   "source": [
    "ch4_ox_df = calculate_ox(TOC_df)\n",
    "df_resampled = df.resample('1T').mean()  # Resample to 1-minute intervals\n",
    "ch4_ox_df_resampled = ch4_ox_df.resample('1T').mean()\n",
    "ch4_ox_df_resampled['H2O'] = df_resampled['H2O']\n",
    "\n"
   ]
  },
  {
   "cell_type": "code",
   "execution_count": null,
   "metadata": {},
   "outputs": [],
   "source": [
    "plt.figure()\n",
    "plt.scatter(ch4_ox_df_resampled.H2O, ch4_ox_df_resampled.ch4_ox, label='CH4 Oxidation efficiency', color = 'blue')\n",
    "plt.xlabel('% H2O')  # Replace with your actual label for the x-axis\n",
    "plt.ylabel('CH4 Oxidation Efficiency')  # Label for the y-axis\n",
    "plt.show()\n"
   ]
  }
 ],
 "metadata": {
  "kernelspec": {
   "display_name": "irene2",
   "language": "python",
   "name": "python3"
  },
  "language_info": {
   "codemirror_mode": {
    "name": "ipython",
    "version": 3
   },
   "file_extension": ".py",
   "mimetype": "text/x-python",
   "name": "python",
   "nbconvert_exporter": "python",
   "pygments_lexer": "ipython3",
   "version": "3.10.15"
  }
 },
 "nbformat": 4,
 "nbformat_minor": 2
}
