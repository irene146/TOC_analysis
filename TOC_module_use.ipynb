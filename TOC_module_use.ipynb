{
 "cells": [
  {
   "cell_type": "code",
   "execution_count": 17,
   "metadata": {},
   "outputs": [],
   "source": [
    "import pandas as pd\n",
    "import numpy as np\n",
    "import matplotlib.pyplot as plt\n",
    "import datetime\n",
    "from glob import glob\n",
    "import os\n",
    "import TOC_functions\n",
    "%matplotlib widget"
   ]
  },
  {
   "cell_type": "code",
   "execution_count": 18,
   "metadata": {},
   "outputs": [],
   "source": [
    "root_folder = os.path.expanduser('C:/Users/ica/OneDrive - Plymouth Marine Laboratory/vscode/TOC_analysis/data/11')  # yourpath\n",
    "picarro_df = TOC_functions.merge_picarro_files(root_folder)"
   ]
  },
  {
   "cell_type": "code",
   "execution_count": null,
   "metadata": {},
   "outputs": [],
   "source": [
    "# filter by time\n",
    "\n",
    "start_time = datetime.datetime(2024, 10, 24, 16, 30, 0)\n",
    "end_time = datetime.datetime(2024, 11, 22, 16, 15, 0)"
   ]
  },
  {
   "cell_type": "code",
   "execution_count": 20,
   "metadata": {},
   "outputs": [],
   "source": [
    "picarro_df.set_index('datetime', inplace=True)\n",
    "\n",
    "df = picarro_df.loc[start_time:end_time]"
   ]
  },
  {
   "cell_type": "code",
   "execution_count": null,
   "metadata": {},
   "outputs": [],
   "source": [
    "fig, (ax1, ax2, ax3) = plt.subplots(nrows=3, sharex=True, figsize=(10, 8))\n",
    "\n",
    "# Plot for CO\n",
    "ax1.plot(df.index, df.CO, label='CO / ppm', color='blue')\n",
    "ax1.set_ylabel('CO / ppm', color='blue')\n",
    "ax1.tick_params(axis='y', labelcolor='blue')\n",
    "\n",
    "# Plot for CH4\n",
    "ax2.plot(df.index, df.CH4, label='CH4 / ppm', color='red')\n",
    "ax2.set_ylabel('CH4 / ppm', color='red')\n",
    "ax2.tick_params(axis='y', labelcolor='red')\n",
    "\n",
    "# Plot for CO2\n",
    "ax3.plot(df.index, df.CO2, label='CO2 / ppm', color='green')\n",
    "ax3.set_xlabel('Date')\n",
    "ax3.set_ylabel('CO2 / ppm', color='green')\n",
    "ax3.tick_params(axis='y', labelcolor='green')\n",
    "\n",
    "# Adjust layout to prevent overlap\n",
    "plt.tight_layout()\n",
    "plt.show()"
   ]
  },
  {
   "cell_type": "code",
   "execution_count": null,
   "metadata": {},
   "outputs": [],
   "source": [
    "# apply QC\n",
    "picarro_df = TOC_functions.qc(picarro_df)\n",
    "\n",
    "# TOC averages\n",
    "TOC_df = TOC_functions.TOC_df(picarro_df)\n",
    "\n",
    "# calculate final TOC\n",
    "toc = TOC_functions.calculate_toc(TOC_df)"
   ]
  }
 ],
 "metadata": {
  "kernelspec": {
   "display_name": "irene2",
   "language": "python",
   "name": "python3"
  },
  "language_info": {
   "codemirror_mode": {
    "name": "ipython",
    "version": 3
   },
   "file_extension": ".py",
   "mimetype": "text/x-python",
   "name": "python",
   "nbconvert_exporter": "python",
   "pygments_lexer": "ipython3",
   "version": "3.10.15"
  }
 },
 "nbformat": 4,
 "nbformat_minor": 2
}
