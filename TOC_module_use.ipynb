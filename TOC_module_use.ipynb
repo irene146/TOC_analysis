{
 "cells": [
  {
   "cell_type": "code",
   "execution_count": null,
   "metadata": {},
   "outputs": [],
   "source": [
    "import pandas as pd\n",
    "import numpy as np\n",
    "import matplotlib.pyplot as plt\n",
    "import datetime\n",
    "from glob import glob\n",
    "import os\n",
    "import toc_functions"
   ]
  },
  {
   "cell_type": "code",
   "execution_count": null,
   "metadata": {},
   "outputs": [],
   "source": [
    "root_folder = os.path.expanduser('C:/Users/ica/OneDrive - Plymouth Marine Laboratory/vscode/TOC/data')  # yourpath\n",
    "picarro_df = toc_functions.merge_picarro_files(root_folder)"
   ]
  },
  {
   "cell_type": "code",
   "execution_count": null,
   "metadata": {},
   "outputs": [],
   "source": [
    "# filter by time\n",
    "\n",
    "start_time = datetime.datetime(2024, 10, 24, 16, 30, 0)\n",
    "end_time = datetime.datetime(2024, 10, 25, 8, 15, 0)"
   ]
  },
  {
   "cell_type": "code",
   "execution_count": null,
   "metadata": {},
   "outputs": [],
   "source": [
    "picarro_df.set_index('datetime', inplace=True)\n",
    "\n",
    "picarro_df = picarro_df.loc[start_time:end_time]"
   ]
  },
  {
   "cell_type": "code",
   "execution_count": null,
   "metadata": {},
   "outputs": [],
   "source": [
    "# apply QC\n",
    "picarro_df = toc_functions.qc(picarro_df)\n",
    "\n",
    "# TOC averages\n",
    "TOC_df = toc_functions.TOC_df(picarro_df)\n",
    "\n",
    "# calculate final TOC\n",
    "toc = toc_functions.calculate_toc(TOC_df)"
   ]
  }
 ],
 "metadata": {
  "language_info": {
   "name": "python"
  }
 },
 "nbformat": 4,
 "nbformat_minor": 2
}
