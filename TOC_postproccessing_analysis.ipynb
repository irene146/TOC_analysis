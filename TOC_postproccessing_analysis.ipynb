{
 "cells": [
  {
   "cell_type": "markdown",
   "metadata": {},
   "source": [
    "TOC POSTPROCESSING"
   ]
  },
  {
   "cell_type": "code",
   "execution_count": 1,
   "metadata": {},
   "outputs": [],
   "source": [
    "import pandas as pd\n",
    "import numpy as np\n",
    "import matplotlib.pyplot as plt\n",
    "import datetime\n",
    "from glob import glob\n",
    "import os\n",
    "%matplotlib widget"
   ]
  },
  {
   "cell_type": "markdown",
   "metadata": {},
   "source": [
    "Function to merge Picarro files "
   ]
  },
  {
   "cell_type": "code",
   "execution_count": 2,
   "metadata": {},
   "outputs": [],
   "source": [
    "def merge_picarro_files(root_folder):\n",
    "    #list to store data\n",
    "    all_data = []\n",
    "\n",
    "    # loop through day subfolders\n",
    "    for day_folder in os.listdir(root_folder):\n",
    "        day_path = os.path.join(root_folder, day_folder)\n",
    "\n",
    "        #loop through files of each day folder\n",
    "        for file_name in os.listdir(day_path):\n",
    "            file_path = os.path.join(day_path, file_name)\n",
    "        \n",
    "        # read .dat using fwf\n",
    "            df = pd.read_fwf(file_path)\n",
    "            \n",
    "            # append data \n",
    "            all_data.append(df)\n",
    "\n",
    "    # combine into a df\n",
    "    merged_df = pd.concat(all_data, ignore_index=True)\n",
    "\n",
    "    # create datetime column \n",
    "    merged_df['datetime'] = pd.to_datetime(merged_df['DATE'] + ' ' + merged_df['TIME'], errors='coerce')\n",
    "\n",
    "    # drop date and time columns \n",
    "    merged_df.drop(columns=['DATE', 'TIME'], inplace=True)\n",
    "\n",
    "    #  datetime first\n",
    "    columns = ['datetime'] + [col for col in merged_df.columns if col != 'datetime']\n",
    "    merged_df = merged_df[columns]\n",
    "\n",
    "    return merged_df"
   ]
  },
  {
   "cell_type": "markdown",
   "metadata": {},
   "source": [
    "Example use "
   ]
  },
  {
   "cell_type": "code",
   "execution_count": 3,
   "metadata": {},
   "outputs": [],
   "source": [
    "root_folder = os.path.expanduser('C:/Users/ica/OneDrive - Plymouth Marine Laboratory/vscode/TOC/data')  # yourpath\n",
    "picarro_df = merge_picarro_files(root_folder)\n",
    "\n",
    "# save to csv\n",
    "picarro_df.to_csv('picarro_df.csv', index=False)"
   ]
  },
  {
   "cell_type": "markdown",
   "metadata": {},
   "source": [
    "Function for QC "
   ]
  },
  {
   "cell_type": "code",
   "execution_count": 4,
   "metadata": {},
   "outputs": [],
   "source": [
    "def qc(df):\n",
    "    \n",
    "    df['CO2_corrected'] = (df['CO2_dry'] + 0.63141) / 0.99357\n",
    "    df['CH4_corrected'] = df['CH4_dry'] * (2.024799 / 2.0238)\n",
    "    return df"
   ]
  },
  {
   "cell_type": "markdown",
   "metadata": {},
   "source": [
    "Create df for TOC calculations "
   ]
  },
  {
   "cell_type": "code",
   "execution_count": 5,
   "metadata": {},
   "outputs": [],
   "source": [
    "def TOC_df(df):\n",
    "    \"\"\"\n",
    "    Makes df for TOC calculations, averages catalyst and ambient times\n",
    "    \n",
    "    Args:\n",
    "        df: df with qc measurements\n",
    "    \n",
    "    Returns:\n",
    "        df to do TOC calculations \n",
    "    \"\"\"\n",
    "    # lists for storing averages\n",
    "    avg_times = []\n",
    "    avg_co2_ambient = []\n",
    "    avg_co2_catalyst = []\n",
    "    avg_ch4_ambient = []\n",
    "    avg_ch4_catalyst = []\n",
    "    avg_co_ambient = []\n",
    "    avg_co_catalyst = []\n",
    "\n",
    "    # detect for valve changes\n",
    "    valve_change = df[(df['solenoid_valves'] != 2.0) & (df['solenoid_valves'] != 0.0)]  # valve =2 is catalyst\n",
    "                                                                                       # valve = 0 is ambient\n",
    "\n",
    "    # averages before valve changes\n",
    "    for i in valve_change.index:\n",
    "        #  time window (25s before valve change, ending 2s before)\n",
    "        end_time = i - pd.Timedelta(seconds=2)\n",
    "        start_time = end_time - pd.Timedelta(seconds=25)\n",
    "        \n",
    "        # get data in the main df within time window\n",
    "        window_df = df[(df.index > start_time) & (df.index < end_time)]\n",
    "        \n",
    "        # averages\n",
    "        avg_co2 = window_df['CO2_corrected'].mean()\n",
    "        avg_ch4 = window_df['CH4_corrected'].mean()\n",
    "        avg_co = window_df['CO'].mean()\n",
    "        avg_valve = window_df['solenoid_valves'].mean()\n",
    "        avg_time_val = window_df.index.mean()\n",
    "        avg_times.append(avg_time_val)\n",
    "\n",
    "        # sort appropriate lists based on valve state\n",
    "        if avg_valve == 2.0:  # catalyst\n",
    "            avg_co2_catalyst.append(avg_co2)\n",
    "            avg_ch4_catalyst.append(avg_ch4)\n",
    "            avg_co_catalyst.append(avg_co)\n",
    "            avg_co2_ambient.append(np.nan)\n",
    "            avg_ch4_ambient.append(np.nan)\n",
    "            avg_co_ambient.append(np.nan)\n",
    "        elif avg_valve == 0.0:  # ambient\n",
    "            avg_co2_ambient.append(avg_co2)\n",
    "            avg_ch4_ambient.append(avg_ch4)\n",
    "            avg_co_ambient.append(avg_co)\n",
    "            avg_co2_catalyst.append(np.nan)\n",
    "            avg_ch4_catalyst.append(np.nan)\n",
    "            avg_co_catalyst.append(np.nan)\n",
    "\n",
    "    # create results df\n",
    "    TOC_df = pd.DataFrame({\n",
    "        'datetime': avg_times,\n",
    "        'avg_co2_ambient': avg_co2_ambient,\n",
    "        'avg_ch4_ambient': avg_ch4_ambient,\n",
    "        'avg_co_ambient': avg_co_ambient,\n",
    "        'avg_co2_catalyst': avg_co2_catalyst,\n",
    "        'avg_ch4_catalyst': avg_ch4_catalyst,\n",
    "        'avg_co_catalyst': avg_co_catalyst\n",
    "    })\n",
    "\n",
    "    return TOC_df.set_index('datetime')"
   ]
  },
  {
   "cell_type": "markdown",
   "metadata": {},
   "source": [
    "Calculate TOC"
   ]
  },
  {
   "cell_type": "code",
   "execution_count": 6,
   "metadata": {},
   "outputs": [],
   "source": [
    "def calculate_toc(TOC_df):\n",
    "    \"\"\"\n",
    "    calculate final TOC values \n",
    "    \n",
    "    Args:\n",
    "        TOC_df: DataFrame with averaged values\n",
    "    \n",
    "    Returns:\n",
    "        DataFrame with TOC results\n",
    "    \"\"\"\n",
    "    toc_results = []\n",
    "\n",
    "    # process in pairs (ambient + catalyst)\n",
    "    for i in range(0, len(TOC_df), 2):\n",
    "        pair = TOC_df.iloc[i:i+2]\n",
    "        # sum catalyst and ambient values\n",
    "        sum_catalyst = pair[['avg_co2_catalyst', 'avg_ch4_catalyst', 'avg_co_catalyst']].sum().sum()\n",
    "        sum_ambient = pair[['avg_co2_ambient', 'avg_ch4_ambient', 'avg_co_ambient']].sum().sum()\n",
    "        # calculate TOC\n",
    "        toc = sum_catalyst - sum_ambient\n",
    "        # store result with mean timestamp\n",
    "        toc_results.append((pair.index.mean(), toc))\n",
    "\n",
    "    return pd.DataFrame(toc_results, columns=['datetime', 'TOC']).set_index('datetime')\n"
   ]
  },
  {
   "cell_type": "markdown",
   "metadata": {},
   "source": [
    "Example use "
   ]
  },
  {
   "cell_type": "code",
   "execution_count": null,
   "metadata": {},
   "outputs": [],
   "source": [
    "df = pd.read_csv('picarro_df.csv', parse_dates=['datetime'], index_col='datetime')\n",
    "\n",
    "# filter by time\n",
    "start_time = datetime.datetime(2024, 10, 24, 16, 30, 0)\n",
    "end_time = datetime.datetime(2024, 10, 25, 8, 15, 0)\n",
    "\n",
    "df = df.loc[start_time:end_time]\n",
    "\n",
    "# apply QC\n",
    "df = qc(df)\n",
    "\n",
    "\n",
    "# TOC averages\n",
    "TOC_df = TOC_df(df)\n",
    "\n",
    "# calculate final TOC\n",
    "toc = calculate_toc(TOC_df)\n",
    "\n",
    "# save results\n",
    "toc.to_csv('toc_results.csv')"
   ]
  }
 ],
 "metadata": {
  "kernelspec": {
   "display_name": "irene2",
   "language": "python",
   "name": "python3"
  },
  "language_info": {
   "codemirror_mode": {
    "name": "ipython",
    "version": 3
   },
   "file_extension": ".py",
   "mimetype": "text/x-python",
   "name": "python",
   "nbconvert_exporter": "python",
   "pygments_lexer": "ipython3",
   "version": "3.10.15"
  }
 },
 "nbformat": 4,
 "nbformat_minor": 2
}
