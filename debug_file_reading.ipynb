{
 "cells": [
  {
   "cell_type": "code",
   "execution_count": 1,
   "metadata": {},
   "outputs": [],
   "source": [
    "import pandas as pd\n",
    "import numpy as np\n",
    "import matplotlib.pyplot as plt\n",
    "import datetime\n",
    "from glob import glob\n",
    "import os\n",
    "%matplotlib widget\n"
   ]
  },
  {
   "cell_type": "code",
   "execution_count": null,
   "metadata": {},
   "outputs": [],
   "source": [
    "root_folder = os.path.expanduser('C:/Users/ica/OneDrive - Plymouth Marine Laboratory/vscode/TOC_analysis/test/11')  # yourpath\n",
    "\n",
    "all_data = []\n",
    "    # loop through day subfolders\n",
    "for day_folder in os.listdir(root_folder):\n",
    "    day_path = os.path.join(root_folder, day_folder)\n",
    "\n",
    "    #loop through files of each day folder\n",
    "    for file_name in os.listdir(day_path):\n",
    "        file_path = os.path.join(day_path, file_name)\n",
    "    \n",
    "    # read .dat using fwf\n",
    "    df = pd.read_fwf(file_path) \n",
    "    \n",
    "    for col in df.columns:\n",
    "        if col not in ['DATE', 'TIME']:\n",
    "            df[col] = pd.to_numeric(df[col])\n",
    "    \n",
    "    all_data.append(df)\n",
    "            \n",
    "        \n",
    "\n",
    "    # Combine into a single DataFrame\n",
    "    merged_df = pd.concat(all_data, ignore_index=True)\n",
    "\n",
    "# create datetime column \n",
    "merged_df['datetime'] = pd.to_datetime(merged_df['DATE'] + ' ' + merged_df['TIME'])\n",
    "\n",
    "# drop date and time columns \n",
    "merged_df.drop(columns=['DATE', 'TIME'], inplace=True)\n",
    "\n",
    "#  datetime first\n",
    "columns = ['datetime'] + [col for col in merged_df.columns if col != 'datetime']\n",
    "merged_df = merged_df[columns]\n",
    "\n",
    "\n"
   ]
  },
  {
   "cell_type": "code",
   "execution_count": null,
   "metadata": {},
   "outputs": [
    {
     "name": "stdout",
     "output_type": "stream",
     "text": [
      "The string contains a minus sign.\n"
     ]
    }
   ],
   "source": [
    "value = ''\n",
    "if '-' in value:\n",
    "    print(\"The string contains a minus sign.\")\n",
    "else:\n",
    "    print(\"The string does not contain a minus sign.\")"
   ]
  },
  {
   "cell_type": "code",
   "execution_count": 6,
   "metadata": {},
   "outputs": [
    {
     "name": "stdout",
     "output_type": "stream",
     "text": [
      "DATE                        2024-11-22\n",
      "TIME                      14:30:48.263\n",
      "FRAC_DAYS_SINCE_JAN1        326.604725\n",
      "FRAC_HRS_SINCE_JAN1        7838.513406\n",
      "JULIAN_DAYS                 327.604725\n",
      "EPOCH_TIME              1732285848.263\n",
      "ALARM_STATUS                         0\n",
      "INST_STATUS                        963\n",
      "CavityPressure              140.001143\n",
      "CavityTemp                   45.000854\n",
      "DasTemp                           31.5\n",
      "EtalonTemp                   44.996178\n",
      "WarmBoxTemp                   44.99984\n",
      "species                            2.0\n",
      "MPVPosition                        0.0\n",
      "OutletValve               41704.584954\n",
      "solenoid_valves                    0.0\n",
      "CO                            0.006722\n",
      "CO2                         439.786318\n",
      "CO2_dry                     444.257377\n",
      "CH4                          -1.777824\n",
      "CH4_dry                      -9.835321\n",
      "H2O                           0.649802\n",
      "h2o_reported                  0.824546\n",
      "b_h2o_pct                     0.865058\n",
      "peak_14                     624.243198\n",
      "peak84_raw                    0.026379\n",
      "Name: 2215, dtype: object\n"
     ]
    }
   ],
   "source": [
    "# Print row 2215 of the DataFrame\n",
    "print(df.iloc[2215])\n"
   ]
  }
 ],
 "metadata": {
  "kernelspec": {
   "display_name": "irene2",
   "language": "python",
   "name": "python3"
  },
  "language_info": {
   "codemirror_mode": {
    "name": "ipython",
    "version": 3
   },
   "file_extension": ".py",
   "mimetype": "text/x-python",
   "name": "python",
   "nbconvert_exporter": "python",
   "pygments_lexer": "ipython3",
   "version": "3.10.15"
  }
 },
 "nbformat": 4,
 "nbformat_minor": 2
}
