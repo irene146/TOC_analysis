{
 "cells": [
  {
   "cell_type": "code",
   "execution_count": 1,
   "metadata": {},
   "outputs": [],
   "source": [
    "import pandas as pd\n",
    "import numpy as np\n",
    "import matplotlib.pyplot as plt\n",
    "import datetime\n",
    "from glob import glob\n",
    "import os\n",
    "%matplotlib widget\n"
   ]
  },
  {
   "cell_type": "code",
   "execution_count": null,
   "metadata": {},
   "outputs": [],
   "source": [
    "root_folder = os.path.expanduser('C:/Users/ica/OneDrive - Plymouth Marine Laboratory/vscode/TOC_analysis/test/11')  # yourpath\n",
    "\n",
    "all_data = []\n",
    "    # loop through day subfolders\n",
    "for day_folder in os.listdir(root_folder):\n",
    "    day_path = os.path.join(root_folder, day_folder)\n",
    "\n",
    "    #loop through files of each day folder\n",
    "    for file_name in os.listdir(day_path):\n",
    "        file_path = os.path.join(day_path, file_name)\n",
    "    \n",
    "    # read .dat using \n",
    "    df = pd.read_csv(file_path, sep='\\s+') \n",
    "    all_data.append(df)\n",
    "            \n",
    "    # Combine into a single DataFrame\n",
    "    merged_df = pd.concat(all_data, ignore_index=True)\n",
    "\n",
    "# create datetime column \n",
    "merged_df['datetime'] = pd.to_datetime(merged_df['DATE'] + ' ' + merged_df['TIME'])\n",
    "\n",
    "# drop date and time columns \n",
    "merged_df.drop(columns=['DATE', 'TIME'], inplace=True)\n",
    "\n",
    "#  datetime first\n",
    "columns = ['datetime'] + [col for col in merged_df.columns if col != 'datetime']\n",
    "merged_df = merged_df[columns]\n",
    "\n",
    "\n"
   ]
  }
 ],
 "metadata": {
  "kernelspec": {
   "display_name": "irene2",
   "language": "python",
   "name": "python3"
  },
  "language_info": {
   "codemirror_mode": {
    "name": "ipython",
    "version": 3
   },
   "file_extension": ".py",
   "mimetype": "text/x-python",
   "name": "python",
   "nbconvert_exporter": "python",
   "pygments_lexer": "ipython3",
   "version": "3.10.15"
  }
 },
 "nbformat": 4,
 "nbformat_minor": 2
}
